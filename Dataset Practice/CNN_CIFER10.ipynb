{
  "nbformat": 4,
  "nbformat_minor": 0,
  "metadata": {
    "colab": {
      "name": "(CNN)Cifer10 Dataset in Pytorch.ipynb",
      "provenance": [],
      "authorship_tag": "ABX9TyNNc9QemCdKXZb8t/al8K/F",
      "include_colab_link": true
    },
    "kernelspec": {
      "name": "python3",
      "display_name": "Python 3"
    },
    "accelerator": "GPU",
    "widgets": {
      "application/vnd.jupyter.widget-state+json": {
        "a34f58730b9e49648e257f5056215f49": {
          "model_module": "@jupyter-widgets/controls",
          "model_name": "HBoxModel",
          "state": {
            "_view_name": "HBoxView",
            "_dom_classes": [],
            "_model_name": "HBoxModel",
            "_view_module": "@jupyter-widgets/controls",
            "_model_module_version": "1.5.0",
            "_view_count": null,
            "_view_module_version": "1.5.0",
            "box_style": "",
            "layout": "IPY_MODEL_25ba902692bc43108b8cdab2497792b7",
            "_model_module": "@jupyter-widgets/controls",
            "children": [
              "IPY_MODEL_c17593689cc4490f92f6df4e97c34059",
              "IPY_MODEL_ca83b03683634e6ebb85e9f7c2729602"
            ]
          }
        },
        "25ba902692bc43108b8cdab2497792b7": {
          "model_module": "@jupyter-widgets/base",
          "model_name": "LayoutModel",
          "state": {
            "_view_name": "LayoutView",
            "grid_template_rows": null,
            "right": null,
            "justify_content": null,
            "_view_module": "@jupyter-widgets/base",
            "overflow": null,
            "_model_module_version": "1.2.0",
            "_view_count": null,
            "flex_flow": null,
            "width": null,
            "min_width": null,
            "border": null,
            "align_items": null,
            "bottom": null,
            "_model_module": "@jupyter-widgets/base",
            "top": null,
            "grid_column": null,
            "overflow_y": null,
            "overflow_x": null,
            "grid_auto_flow": null,
            "grid_area": null,
            "grid_template_columns": null,
            "flex": null,
            "_model_name": "LayoutModel",
            "justify_items": null,
            "grid_row": null,
            "max_height": null,
            "align_content": null,
            "visibility": null,
            "align_self": null,
            "height": null,
            "min_height": null,
            "padding": null,
            "grid_auto_rows": null,
            "grid_gap": null,
            "max_width": null,
            "order": null,
            "_view_module_version": "1.2.0",
            "grid_template_areas": null,
            "object_position": null,
            "object_fit": null,
            "grid_auto_columns": null,
            "margin": null,
            "display": null,
            "left": null
          }
        },
        "c17593689cc4490f92f6df4e97c34059": {
          "model_module": "@jupyter-widgets/controls",
          "model_name": "FloatProgressModel",
          "state": {
            "_view_name": "ProgressView",
            "style": "IPY_MODEL_257d100eac0246b28446e0aa7deaae39",
            "_dom_classes": [],
            "description": "",
            "_model_name": "FloatProgressModel",
            "bar_style": "info",
            "max": 1,
            "_view_module": "@jupyter-widgets/controls",
            "_model_module_version": "1.5.0",
            "value": 1,
            "_view_count": null,
            "_view_module_version": "1.5.0",
            "orientation": "horizontal",
            "min": 0,
            "description_tooltip": null,
            "_model_module": "@jupyter-widgets/controls",
            "layout": "IPY_MODEL_28a6de3e3e3a40c6a880212307f8cd6d"
          }
        },
        "ca83b03683634e6ebb85e9f7c2729602": {
          "model_module": "@jupyter-widgets/controls",
          "model_name": "HTMLModel",
          "state": {
            "_view_name": "HTMLView",
            "style": "IPY_MODEL_f0c253bda24f450081f7ed41511129a6",
            "_dom_classes": [],
            "description": "",
            "_model_name": "HTMLModel",
            "placeholder": "​",
            "_view_module": "@jupyter-widgets/controls",
            "_model_module_version": "1.5.0",
            "value": " 170500096/? [00:20&lt;00:00, 55407010.23it/s]",
            "_view_count": null,
            "_view_module_version": "1.5.0",
            "description_tooltip": null,
            "_model_module": "@jupyter-widgets/controls",
            "layout": "IPY_MODEL_8ee00f8deb9b4b0b96aa4a3efba68848"
          }
        },
        "257d100eac0246b28446e0aa7deaae39": {
          "model_module": "@jupyter-widgets/controls",
          "model_name": "ProgressStyleModel",
          "state": {
            "_view_name": "StyleView",
            "_model_name": "ProgressStyleModel",
            "description_width": "initial",
            "_view_module": "@jupyter-widgets/base",
            "_model_module_version": "1.5.0",
            "_view_count": null,
            "_view_module_version": "1.2.0",
            "bar_color": null,
            "_model_module": "@jupyter-widgets/controls"
          }
        },
        "28a6de3e3e3a40c6a880212307f8cd6d": {
          "model_module": "@jupyter-widgets/base",
          "model_name": "LayoutModel",
          "state": {
            "_view_name": "LayoutView",
            "grid_template_rows": null,
            "right": null,
            "justify_content": null,
            "_view_module": "@jupyter-widgets/base",
            "overflow": null,
            "_model_module_version": "1.2.0",
            "_view_count": null,
            "flex_flow": null,
            "width": null,
            "min_width": null,
            "border": null,
            "align_items": null,
            "bottom": null,
            "_model_module": "@jupyter-widgets/base",
            "top": null,
            "grid_column": null,
            "overflow_y": null,
            "overflow_x": null,
            "grid_auto_flow": null,
            "grid_area": null,
            "grid_template_columns": null,
            "flex": null,
            "_model_name": "LayoutModel",
            "justify_items": null,
            "grid_row": null,
            "max_height": null,
            "align_content": null,
            "visibility": null,
            "align_self": null,
            "height": null,
            "min_height": null,
            "padding": null,
            "grid_auto_rows": null,
            "grid_gap": null,
            "max_width": null,
            "order": null,
            "_view_module_version": "1.2.0",
            "grid_template_areas": null,
            "object_position": null,
            "object_fit": null,
            "grid_auto_columns": null,
            "margin": null,
            "display": null,
            "left": null
          }
        },
        "f0c253bda24f450081f7ed41511129a6": {
          "model_module": "@jupyter-widgets/controls",
          "model_name": "DescriptionStyleModel",
          "state": {
            "_view_name": "StyleView",
            "_model_name": "DescriptionStyleModel",
            "description_width": "",
            "_view_module": "@jupyter-widgets/base",
            "_model_module_version": "1.5.0",
            "_view_count": null,
            "_view_module_version": "1.2.0",
            "_model_module": "@jupyter-widgets/controls"
          }
        },
        "8ee00f8deb9b4b0b96aa4a3efba68848": {
          "model_module": "@jupyter-widgets/base",
          "model_name": "LayoutModel",
          "state": {
            "_view_name": "LayoutView",
            "grid_template_rows": null,
            "right": null,
            "justify_content": null,
            "_view_module": "@jupyter-widgets/base",
            "overflow": null,
            "_model_module_version": "1.2.0",
            "_view_count": null,
            "flex_flow": null,
            "width": null,
            "min_width": null,
            "border": null,
            "align_items": null,
            "bottom": null,
            "_model_module": "@jupyter-widgets/base",
            "top": null,
            "grid_column": null,
            "overflow_y": null,
            "overflow_x": null,
            "grid_auto_flow": null,
            "grid_area": null,
            "grid_template_columns": null,
            "flex": null,
            "_model_name": "LayoutModel",
            "justify_items": null,
            "grid_row": null,
            "max_height": null,
            "align_content": null,
            "visibility": null,
            "align_self": null,
            "height": null,
            "min_height": null,
            "padding": null,
            "grid_auto_rows": null,
            "grid_gap": null,
            "max_width": null,
            "order": null,
            "_view_module_version": "1.2.0",
            "grid_template_areas": null,
            "object_position": null,
            "object_fit": null,
            "grid_auto_columns": null,
            "margin": null,
            "display": null,
            "left": null
          }
        }
      }
    }
  },
  "cells": [
    {
      "cell_type": "markdown",
      "metadata": {
        "id": "view-in-github",
        "colab_type": "text"
      },
      "source": [
        "<a href=\"https://colab.research.google.com/github/Raian-Rahman/Pytorch-Practice/blob/main/(CNN)Cifer10_Dataset_in_Pytorch.ipynb\" target=\"_parent\"><img src=\"https://colab.research.google.com/assets/colab-badge.svg\" alt=\"Open In Colab\"/></a>"
      ]
    },
    {
      "cell_type": "code",
      "metadata": {
        "id": "EQwX8gnJ7nTN"
      },
      "source": [
        "import torch\r\n",
        "import numpy as np\r\n",
        "import torchvision.transforms as transforms\r\n",
        "import matplotlib.pyplot as plt\r\n",
        "import torch.nn as nn\r\n",
        "import torch.nn.functional as F\r\n",
        "import torch.optim as optim\r\n",
        "from torchvision import datasets,transforms\r\n",
        "from torch.utils.data import random_split,DataLoader\r\n",
        "\r\n",
        "%matplotlib inline\r\n"
      ],
      "execution_count": null,
      "outputs": []
    },
    {
      "cell_type": "markdown",
      "metadata": {
        "id": "cVNR4yBxlJAK"
      },
      "source": [
        "### Loading the dataset"
      ]
    },
    {
      "cell_type": "code",
      "metadata": {
        "colab": {
          "base_uri": "https://localhost:8080/",
          "height": 100,
          "referenced_widgets": [
            "a34f58730b9e49648e257f5056215f49",
            "25ba902692bc43108b8cdab2497792b7",
            "c17593689cc4490f92f6df4e97c34059",
            "ca83b03683634e6ebb85e9f7c2729602",
            "257d100eac0246b28446e0aa7deaae39",
            "28a6de3e3e3a40c6a880212307f8cd6d",
            "f0c253bda24f450081f7ed41511129a6",
            "8ee00f8deb9b4b0b96aa4a3efba68848"
          ]
        },
        "id": "V14qLUpKldai",
        "outputId": "e1cd9162-927a-4158-ef94-c9cdc16a9e65"
      },
      "source": [
        "train_data = datasets.CIFAR10('data',train=True,download='True',transform=transforms.ToTensor())\r\n",
        "print(len(train_data))\r\n",
        "train,val = random_split(train_data,[45000,5000])\r\n",
        "train_loader = DataLoader(train,batch_size = 32)\r\n",
        "val_loader = DataLoader(val,batch_size=32)"
      ],
      "execution_count": null,
      "outputs": [
        {
          "output_type": "stream",
          "text": [
            "Downloading https://www.cs.toronto.edu/~kriz/cifar-10-python.tar.gz to data/cifar-10-python.tar.gz\n"
          ],
          "name": "stdout"
        },
        {
          "output_type": "display_data",
          "data": {
            "application/vnd.jupyter.widget-view+json": {
              "model_id": "a34f58730b9e49648e257f5056215f49",
              "version_minor": 0,
              "version_major": 2
            },
            "text/plain": [
              "HBox(children=(FloatProgress(value=1.0, bar_style='info', max=1.0), HTML(value='')))"
            ]
          },
          "metadata": {
            "tags": []
          }
        },
        {
          "output_type": "stream",
          "text": [
            "Extracting data/cifar-10-python.tar.gz to data\n",
            "50000\n"
          ],
          "name": "stdout"
        }
      ]
    },
    {
      "cell_type": "markdown",
      "metadata": {
        "id": "oWP3TxQX6mnM"
      },
      "source": [
        "# Defining the CNN Architecture\r\n",
        "\r\n",
        "As it is a custom CNN so I am defining the architecture like below\r\n",
        "\r\n",
        "Input -> CONV+MaxPOOL (5) -> CONV+MaxPOOL (5) -> CONV+MaxPOOL (5) -> CONV+MaxPOOL (3) -> FC -> FC -> Softmax\r\n",
        "\r\n",
        "Initially the image size is 32 by 32\r\n",
        "\r\n",
        "32x32x3 -> 28x28x8 -> 14x14x8 -> 10x10x16 -> 5x5x16 -> 4x4x32 -> 2x2x32"
      ]
    },
    {
      "cell_type": "code",
      "metadata": {
        "colab": {
          "base_uri": "https://localhost:8080/"
        },
        "id": "B1bU-7W-6XqC",
        "outputId": "8fee0903-a800-4a82-b14a-e0004b96a2c4"
      },
      "source": [
        "class Net(nn.Module):\r\n",
        "    def __init__(self):\r\n",
        "        super(Net,self).__init__()\r\n",
        "\r\n",
        "        #convolutional layer\r\n",
        "        self.conv0 = nn.Conv2d(in_channels=3, out_channels=8, kernel_size= 5)\r\n",
        "        self.conv1 = nn.Conv2d(in_channels=8, out_channels=16, kernel_size= 5)\r\n",
        "        self.conv2 = nn.Conv2d(in_channels=16, out_channels=32, kernel_size= 2)\r\n",
        "\r\n",
        "        #max pooling layer\r\n",
        "        self.pool = nn.MaxPool2d(kernel_size=2,stride=2)\r\n",
        "\r\n",
        "\r\n",
        "        #fully connected layer\r\n",
        "        self.fc1 = nn.Linear(400,128)\r\n",
        "        self.fc2 = nn.Linear(128,64)\r\n",
        "        self.fc3 = nn.Linear(64,32)\r\n",
        "        self.fc4 = nn.Linear(32,16)\r\n",
        "        self.fc5 = nn.Linear(16,10)\r\n",
        "        \r\n",
        "    def forward(self,x):\r\n",
        "        #conv with ReLU and Pooling \r\n",
        "        x = self.conv0(x)\r\n",
        "        x = F.relu(x)\r\n",
        "        x = self.pool(x)\r\n",
        "        \r\n",
        "        x = self.conv1(x)\r\n",
        "        \r\n",
        "        x = F.relu(x)\r\n",
        "        x = self.pool(x)\r\n",
        "\r\n",
        "        # x = self.conv2(x)\r\n",
        "        # x = F.relu(x)\r\n",
        "        # x = self.pool(x)\r\n",
        "        #flattenned layer        \r\n",
        "        x = x.view(-1,5*5*16)\r\n",
        "        x = F.relu(self.fc1(x))\r\n",
        "        x = F.relu(self.fc2(x))\r\n",
        "        x = F.relu(self.fc3(x))\r\n",
        "        x = F.relu(self.fc4(x))\r\n",
        "        x = F.relu(self.fc5(x))\r\n",
        "        return x\r\n",
        "        \r\n",
        "model = Net().cuda()\r\n",
        "print(model)"
      ],
      "execution_count": null,
      "outputs": [
        {
          "output_type": "stream",
          "text": [
            "Net(\n",
            "  (conv0): Conv2d(3, 8, kernel_size=(5, 5), stride=(1, 1))\n",
            "  (conv1): Conv2d(8, 16, kernel_size=(5, 5), stride=(1, 1))\n",
            "  (conv2): Conv2d(16, 32, kernel_size=(2, 2), stride=(1, 1))\n",
            "  (pool): MaxPool2d(kernel_size=2, stride=2, padding=0, dilation=1, ceil_mode=False)\n",
            "  (fc1): Linear(in_features=400, out_features=128, bias=True)\n",
            "  (fc2): Linear(in_features=128, out_features=64, bias=True)\n",
            "  (fc3): Linear(in_features=64, out_features=32, bias=True)\n",
            "  (fc4): Linear(in_features=32, out_features=16, bias=True)\n",
            "  (fc5): Linear(in_features=16, out_features=10, bias=True)\n",
            ")\n"
          ],
          "name": "stdout"
        }
      ]
    },
    {
      "cell_type": "markdown",
      "metadata": {
        "id": "iGdpJ3WTByza"
      },
      "source": [
        "# Defining a Loss Function and Optimizer"
      ]
    },
    {
      "cell_type": "code",
      "metadata": {
        "id": "bmCqOxNZBiEd"
      },
      "source": [
        "criterion = nn.CrossEntropyLoss()\r\n",
        "optimiser = optim.SGD(model.parameters(),lr=0.01)\r\n",
        "loss = nn.CrossEntropyLoss()"
      ],
      "execution_count": null,
      "outputs": []
    },
    {
      "cell_type": "code",
      "metadata": {
        "id": "R_ICaKVkEgHz",
        "colab": {
          "base_uri": "https://localhost:8080/"
        },
        "outputId": "8545542a-aabc-40e8-825d-44b7db00085f"
      },
      "source": [
        "# define training loop\r\n",
        "\r\n",
        "nb_epochs = 25\r\n",
        "\r\n",
        "for epoch in range(nb_epochs):\r\n",
        "    losses = []\r\n",
        "    for batch in train_loader:\r\n",
        "        x ,y = batch\r\n",
        "        # x : batch_size * 1_channel * 28 * 28\r\n",
        "        #b = x.size(0)\r\n",
        "        #x = x.view(b,-1).cuda()\r\n",
        "        #forward pass\r\n",
        "        x = x.cuda()\r\n",
        "        l = model(x) # l stands for logit\r\n",
        "        \r\n",
        "        #compute the loss fucnction\r\n",
        "        J = loss(l,y.cuda())\r\n",
        "        \r\n",
        "        #cleaning the gradient \r\n",
        "        optimiser.zero_grad()\r\n",
        "        #params.grad._zero()\r\n",
        "       \r\n",
        "        #compute accumulatinfg the partial gradient \r\n",
        "        J.backward() #params.\r\n",
        "        #params.grad.add_(dJ/dparams)\r\n",
        "        \r\n",
        "        #update the parameters\r\n",
        "        optimiser.step()\r\n",
        "        #with torch.no_grad(): params = params - alpha*params.grad\r\n",
        "        losses.append(J.item())\r\n",
        "    print(f'Epoch {epoch+1},train loss: {torch.tensor(losses).mean():.2f}',sep = ' ')\r\n",
        "    losses = []\r\n",
        "    accuracies = []\r\n",
        "    for batch in val_loader:\r\n",
        "        x ,y = batch\r\n",
        "        # x : batch_size * 1_channel * 28 * 28\r\n",
        "        x = x.cuda()\r\n",
        "        #forward pass\r\n",
        "        with torch.no_grad():\r\n",
        "            l = model(x) # l stands for logit\r\n",
        "            #compute the loss fucnction\r\n",
        "            J = loss(l,y.cuda())\r\n",
        "            losses.append(J.item())\r\n",
        "            accuracies.append(y.cuda().eq(l.detach().argmax(dim=1)).float().mean())\r\n",
        "    print(f' validation loss: {torch.tensor(losses).mean():.2f}')\r\n",
        "    print(f'Epoch {epoch+26},Accuracy: {torch.tensor(accuracies).mean():.5f}')"
      ],
      "execution_count": null,
      "outputs": [
        {
          "output_type": "stream",
          "text": [
            "Epoch 1,train loss: 0.89\n",
            " validation loss: 1.51\n",
            "Epoch 26,Accuracy: 0.56150\n",
            "Epoch 2,train loss: 0.88\n",
            " validation loss: 1.55\n",
            "Epoch 27,Accuracy: 0.56369\n",
            "Epoch 3,train loss: 0.86\n",
            " validation loss: 1.56\n",
            "Epoch 28,Accuracy: 0.56648\n",
            "Epoch 4,train loss: 0.85\n",
            " validation loss: 1.58\n",
            "Epoch 29,Accuracy: 0.55354\n",
            "Epoch 5,train loss: 0.83\n",
            " validation loss: 1.59\n",
            "Epoch 30,Accuracy: 0.56270\n",
            "Epoch 6,train loss: 0.82\n",
            " validation loss: 1.74\n",
            "Epoch 31,Accuracy: 0.54578\n",
            "Epoch 7,train loss: 0.81\n",
            " validation loss: 1.67\n",
            "Epoch 32,Accuracy: 0.55732\n",
            "Epoch 8,train loss: 0.80\n",
            " validation loss: 1.72\n",
            "Epoch 33,Accuracy: 0.55673\n",
            "Epoch 9,train loss: 0.79\n",
            " validation loss: 1.74\n",
            "Epoch 34,Accuracy: 0.55275\n",
            "Epoch 10,train loss: 0.78\n",
            " validation loss: 1.71\n",
            "Epoch 35,Accuracy: 0.55693\n",
            "Epoch 11,train loss: 0.77\n",
            " validation loss: 1.73\n",
            "Epoch 36,Accuracy: 0.56469\n",
            "Epoch 12,train loss: 0.76\n",
            " validation loss: 1.74\n",
            "Epoch 37,Accuracy: 0.55951\n",
            "Epoch 13,train loss: 0.76\n",
            " validation loss: 1.84\n",
            "Epoch 38,Accuracy: 0.55175\n",
            "Epoch 14,train loss: 0.74\n",
            " validation loss: 2.01\n",
            "Epoch 39,Accuracy: 0.52369\n",
            "Epoch 15,train loss: 0.74\n",
            " validation loss: 1.79\n",
            "Epoch 40,Accuracy: 0.56031\n",
            "Epoch 16,train loss: 0.72\n",
            " validation loss: 1.82\n",
            "Epoch 41,Accuracy: 0.55414\n",
            "Epoch 17,train loss: 0.72\n",
            " validation loss: 1.89\n",
            "Epoch 42,Accuracy: 0.55693\n",
            "Epoch 18,train loss: 0.72\n",
            " validation loss: 1.81\n",
            "Epoch 43,Accuracy: 0.55175\n",
            "Epoch 19,train loss: 0.70\n",
            " validation loss: 1.97\n",
            "Epoch 44,Accuracy: 0.54319\n",
            "Epoch 20,train loss: 0.69\n",
            " validation loss: 1.95\n",
            "Epoch 45,Accuracy: 0.55155\n",
            "Epoch 21,train loss: 0.69\n",
            " validation loss: 1.96\n",
            "Epoch 46,Accuracy: 0.55693\n",
            "Epoch 22,train loss: 0.69\n",
            " validation loss: 2.00\n",
            "Epoch 47,Accuracy: 0.55454\n",
            "Epoch 23,train loss: 0.68\n",
            " validation loss: 2.08\n",
            "Epoch 48,Accuracy: 0.55354\n",
            "Epoch 24,train loss: 0.67\n",
            " validation loss: 1.99\n",
            "Epoch 49,Accuracy: 0.55135\n",
            "Epoch 25,train loss: 0.66\n",
            " validation loss: 2.68\n",
            "Epoch 50,Accuracy: 0.47532\n"
          ],
          "name": "stdout"
        }
      ]
    },
    {
      "cell_type": "code",
      "metadata": {
        "id": "iRcAO_nFuPap"
      },
      "source": [
        ""
      ],
      "execution_count": null,
      "outputs": []
    }
  ]
}