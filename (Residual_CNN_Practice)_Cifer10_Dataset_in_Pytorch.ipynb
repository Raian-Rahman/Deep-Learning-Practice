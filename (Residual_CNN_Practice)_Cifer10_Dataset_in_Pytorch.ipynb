{
  "nbformat": 4,
  "nbformat_minor": 0,
  "metadata": {
    "colab": {
      "name": "(Residual CNN Practice) Cifer10 Dataset in Pytorch.ipynb",
      "provenance": [],
      "authorship_tag": "ABX9TyP+ThhTJF+jlJnyg/pSszpU",
      "include_colab_link": true
    },
    "kernelspec": {
      "name": "python3",
      "display_name": "Python 3"
    },
    "accelerator": "GPU",
    "widgets": {
      "application/vnd.jupyter.widget-state+json": {
        "2fedc78a218144c98af7f1ef3e8c31a4": {
          "model_module": "@jupyter-widgets/controls",
          "model_name": "HBoxModel",
          "state": {
            "_view_name": "HBoxView",
            "_dom_classes": [],
            "_model_name": "HBoxModel",
            "_view_module": "@jupyter-widgets/controls",
            "_model_module_version": "1.5.0",
            "_view_count": null,
            "_view_module_version": "1.5.0",
            "box_style": "",
            "layout": "IPY_MODEL_bef0d127190d47ce8d9a0d6ecbebdc85",
            "_model_module": "@jupyter-widgets/controls",
            "children": [
              "IPY_MODEL_1c66722cea7c4f208b38455b81aec6e8",
              "IPY_MODEL_4bedf0350a4b4142a9f9aab2f2d8981c"
            ]
          }
        },
        "bef0d127190d47ce8d9a0d6ecbebdc85": {
          "model_module": "@jupyter-widgets/base",
          "model_name": "LayoutModel",
          "state": {
            "_view_name": "LayoutView",
            "grid_template_rows": null,
            "right": null,
            "justify_content": null,
            "_view_module": "@jupyter-widgets/base",
            "overflow": null,
            "_model_module_version": "1.2.0",
            "_view_count": null,
            "flex_flow": null,
            "width": null,
            "min_width": null,
            "border": null,
            "align_items": null,
            "bottom": null,
            "_model_module": "@jupyter-widgets/base",
            "top": null,
            "grid_column": null,
            "overflow_y": null,
            "overflow_x": null,
            "grid_auto_flow": null,
            "grid_area": null,
            "grid_template_columns": null,
            "flex": null,
            "_model_name": "LayoutModel",
            "justify_items": null,
            "grid_row": null,
            "max_height": null,
            "align_content": null,
            "visibility": null,
            "align_self": null,
            "height": null,
            "min_height": null,
            "padding": null,
            "grid_auto_rows": null,
            "grid_gap": null,
            "max_width": null,
            "order": null,
            "_view_module_version": "1.2.0",
            "grid_template_areas": null,
            "object_position": null,
            "object_fit": null,
            "grid_auto_columns": null,
            "margin": null,
            "display": null,
            "left": null
          }
        },
        "1c66722cea7c4f208b38455b81aec6e8": {
          "model_module": "@jupyter-widgets/controls",
          "model_name": "FloatProgressModel",
          "state": {
            "_view_name": "ProgressView",
            "style": "IPY_MODEL_11e0edc53d124c06a00f0e49e22b2955",
            "_dom_classes": [],
            "description": "",
            "_model_name": "FloatProgressModel",
            "bar_style": "info",
            "max": 1,
            "_view_module": "@jupyter-widgets/controls",
            "_model_module_version": "1.5.0",
            "value": 1,
            "_view_count": null,
            "_view_module_version": "1.5.0",
            "orientation": "horizontal",
            "min": 0,
            "description_tooltip": null,
            "_model_module": "@jupyter-widgets/controls",
            "layout": "IPY_MODEL_d561f50df20d4a28b5d332fcd507d640"
          }
        },
        "4bedf0350a4b4142a9f9aab2f2d8981c": {
          "model_module": "@jupyter-widgets/controls",
          "model_name": "HTMLModel",
          "state": {
            "_view_name": "HTMLView",
            "style": "IPY_MODEL_60458d7a5c9a45dd83f8de7d32d4cc50",
            "_dom_classes": [],
            "description": "",
            "_model_name": "HTMLModel",
            "placeholder": "​",
            "_view_module": "@jupyter-widgets/controls",
            "_model_module_version": "1.5.0",
            "value": " 170500096/? [00:20&lt;00:00, 53510354.93it/s]",
            "_view_count": null,
            "_view_module_version": "1.5.0",
            "description_tooltip": null,
            "_model_module": "@jupyter-widgets/controls",
            "layout": "IPY_MODEL_ae9c6142e3e84273ad7f4863b73060d6"
          }
        },
        "11e0edc53d124c06a00f0e49e22b2955": {
          "model_module": "@jupyter-widgets/controls",
          "model_name": "ProgressStyleModel",
          "state": {
            "_view_name": "StyleView",
            "_model_name": "ProgressStyleModel",
            "description_width": "initial",
            "_view_module": "@jupyter-widgets/base",
            "_model_module_version": "1.5.0",
            "_view_count": null,
            "_view_module_version": "1.2.0",
            "bar_color": null,
            "_model_module": "@jupyter-widgets/controls"
          }
        },
        "d561f50df20d4a28b5d332fcd507d640": {
          "model_module": "@jupyter-widgets/base",
          "model_name": "LayoutModel",
          "state": {
            "_view_name": "LayoutView",
            "grid_template_rows": null,
            "right": null,
            "justify_content": null,
            "_view_module": "@jupyter-widgets/base",
            "overflow": null,
            "_model_module_version": "1.2.0",
            "_view_count": null,
            "flex_flow": null,
            "width": null,
            "min_width": null,
            "border": null,
            "align_items": null,
            "bottom": null,
            "_model_module": "@jupyter-widgets/base",
            "top": null,
            "grid_column": null,
            "overflow_y": null,
            "overflow_x": null,
            "grid_auto_flow": null,
            "grid_area": null,
            "grid_template_columns": null,
            "flex": null,
            "_model_name": "LayoutModel",
            "justify_items": null,
            "grid_row": null,
            "max_height": null,
            "align_content": null,
            "visibility": null,
            "align_self": null,
            "height": null,
            "min_height": null,
            "padding": null,
            "grid_auto_rows": null,
            "grid_gap": null,
            "max_width": null,
            "order": null,
            "_view_module_version": "1.2.0",
            "grid_template_areas": null,
            "object_position": null,
            "object_fit": null,
            "grid_auto_columns": null,
            "margin": null,
            "display": null,
            "left": null
          }
        },
        "60458d7a5c9a45dd83f8de7d32d4cc50": {
          "model_module": "@jupyter-widgets/controls",
          "model_name": "DescriptionStyleModel",
          "state": {
            "_view_name": "StyleView",
            "_model_name": "DescriptionStyleModel",
            "description_width": "",
            "_view_module": "@jupyter-widgets/base",
            "_model_module_version": "1.5.0",
            "_view_count": null,
            "_view_module_version": "1.2.0",
            "_model_module": "@jupyter-widgets/controls"
          }
        },
        "ae9c6142e3e84273ad7f4863b73060d6": {
          "model_module": "@jupyter-widgets/base",
          "model_name": "LayoutModel",
          "state": {
            "_view_name": "LayoutView",
            "grid_template_rows": null,
            "right": null,
            "justify_content": null,
            "_view_module": "@jupyter-widgets/base",
            "overflow": null,
            "_model_module_version": "1.2.0",
            "_view_count": null,
            "flex_flow": null,
            "width": null,
            "min_width": null,
            "border": null,
            "align_items": null,
            "bottom": null,
            "_model_module": "@jupyter-widgets/base",
            "top": null,
            "grid_column": null,
            "overflow_y": null,
            "overflow_x": null,
            "grid_auto_flow": null,
            "grid_area": null,
            "grid_template_columns": null,
            "flex": null,
            "_model_name": "LayoutModel",
            "justify_items": null,
            "grid_row": null,
            "max_height": null,
            "align_content": null,
            "visibility": null,
            "align_self": null,
            "height": null,
            "min_height": null,
            "padding": null,
            "grid_auto_rows": null,
            "grid_gap": null,
            "max_width": null,
            "order": null,
            "_view_module_version": "1.2.0",
            "grid_template_areas": null,
            "object_position": null,
            "object_fit": null,
            "grid_auto_columns": null,
            "margin": null,
            "display": null,
            "left": null
          }
        }
      }
    }
  },
  "cells": [
    {
      "cell_type": "markdown",
      "metadata": {
        "id": "view-in-github",
        "colab_type": "text"
      },
      "source": [
        "<a href=\"https://colab.research.google.com/github/Raian-Rahman/Pytorch-Practice/blob/main/(Residual_CNN_Practice)_Cifer10_Dataset_in_Pytorch.ipynb\" target=\"_parent\"><img src=\"https://colab.research.google.com/assets/colab-badge.svg\" alt=\"Open In Colab\"/></a>"
      ]
    },
    {
      "cell_type": "code",
      "metadata": {
        "id": "EQwX8gnJ7nTN"
      },
      "source": [
        "import torch\r\n",
        "import numpy as np\r\n",
        "import torchvision.transforms as transforms\r\n",
        "import matplotlib.pyplot as plt\r\n",
        "import torch.nn as nn\r\n",
        "import torch.nn.functional as F\r\n",
        "import torch.optim as optim\r\n",
        "from torchvision import datasets,transforms\r\n",
        "from torch.utils.data import random_split,DataLoader\r\n",
        "\r\n",
        "%matplotlib inline\r\n"
      ],
      "execution_count": null,
      "outputs": []
    },
    {
      "cell_type": "markdown",
      "metadata": {
        "id": "cVNR4yBxlJAK"
      },
      "source": [
        "### Loading the dataset"
      ]
    },
    {
      "cell_type": "code",
      "metadata": {
        "colab": {
          "base_uri": "https://localhost:8080/",
          "height": 100,
          "referenced_widgets": [
            "2fedc78a218144c98af7f1ef3e8c31a4",
            "bef0d127190d47ce8d9a0d6ecbebdc85",
            "1c66722cea7c4f208b38455b81aec6e8",
            "4bedf0350a4b4142a9f9aab2f2d8981c",
            "11e0edc53d124c06a00f0e49e22b2955",
            "d561f50df20d4a28b5d332fcd507d640",
            "60458d7a5c9a45dd83f8de7d32d4cc50",
            "ae9c6142e3e84273ad7f4863b73060d6"
          ]
        },
        "id": "V14qLUpKldai",
        "outputId": "d70fa8ba-0caf-4731-a056-f64454902cec"
      },
      "source": [
        "train_data = datasets.CIFAR10('data',train=True,download='True',transform=transforms.ToTensor())\r\n",
        "print(len(train_data))\r\n",
        "train,val = random_split(train_data,[45000,5000])\r\n",
        "train_loader = DataLoader(train,batch_size = 32)\r\n",
        "val_loader = DataLoader(val,batch_size=32)"
      ],
      "execution_count": null,
      "outputs": [
        {
          "output_type": "stream",
          "text": [
            "Downloading https://www.cs.toronto.edu/~kriz/cifar-10-python.tar.gz to data/cifar-10-python.tar.gz\n"
          ],
          "name": "stdout"
        },
        {
          "output_type": "display_data",
          "data": {
            "application/vnd.jupyter.widget-view+json": {
              "model_id": "2fedc78a218144c98af7f1ef3e8c31a4",
              "version_minor": 0,
              "version_major": 2
            },
            "text/plain": [
              "HBox(children=(FloatProgress(value=1.0, bar_style='info', max=1.0), HTML(value='')))"
            ]
          },
          "metadata": {
            "tags": []
          }
        },
        {
          "output_type": "stream",
          "text": [
            "Extracting data/cifar-10-python.tar.gz to data\n",
            "50000\n"
          ],
          "name": "stdout"
        }
      ]
    },
    {
      "cell_type": "markdown",
      "metadata": {
        "id": "oWP3TxQX6mnM"
      },
      "source": [
        "# Defining the CNN Architecture\r\n",
        "\r\n",
        "As it is a custom CNN so I am defining the architecture like below\r\n",
        "\r\n",
        "Input -> CONV+MaxPOOL (5) -> CONV+MaxPOOL (5) -> CONV+MaxPOOL (5) -> CONV+MaxPOOL (3) -> FC -> FC -> Softmax\r\n",
        "\r\n",
        "Initially the image size is 32 by 32\r\n",
        "\r\n",
        "32x32x3 -> 28x28x8 -> 14x14x8 -> 10x10x16 -> 5x5x16 -> 4x4x32 -> 2x2x32"
      ]
    },
    {
      "cell_type": "code",
      "metadata": {
        "colab": {
          "base_uri": "https://localhost:8080/"
        },
        "id": "B1bU-7W-6XqC",
        "outputId": "a99ef4bc-1268-459b-ee57-1cddfa497647"
      },
      "source": [
        "class Net(nn.Module):\r\n",
        "    def __init__(self):\r\n",
        "        super(Net,self).__init__()\r\n",
        "\r\n",
        "        #convolutional layer\r\n",
        "        self.conv0 = nn.Conv2d(in_channels=3, out_channels=8, kernel_size= 5)\r\n",
        "        self.conv1 = nn.Conv2d(in_channels=8, out_channels=16, kernel_size= 5)\r\n",
        "        self.conv2 = nn.Conv2d(in_channels=16, out_channels=32, kernel_size= 2)\r\n",
        "\r\n",
        "        #max pooling layer\r\n",
        "        self.pool = nn.MaxPool2d(kernel_size=2,stride=2)\r\n",
        "\r\n",
        "\r\n",
        "        #fully connected layer\r\n",
        "        self.fc1 = nn.Linear(400,128)\r\n",
        "        self.fc2 = nn.Linear(128,64)\r\n",
        "        self.fc3 = nn.Linear(64,32)\r\n",
        "        self.fc4 = nn.Linear(32,32)\r\n",
        "        self.fc5 = nn.Linear(32,16)\r\n",
        "        self.fc6 = nn.Linear(16,10)\r\n",
        "        self.do  = nn.Dropout(p=0.3)\r\n",
        "    def forward(self,x):\r\n",
        "        #conv with ReLU and Pooling \r\n",
        "        x = self.conv0(x)\r\n",
        "        x = F.relu(x)\r\n",
        "        x = self.pool(x)\r\n",
        "        \r\n",
        "        x = self.conv1(x)\r\n",
        "        \r\n",
        "        x = F.relu(x)\r\n",
        "        x = self.pool(x)\r\n",
        "\r\n",
        "        # x = self.conv2(x)\r\n",
        "        # x = F.relu(x)\r\n",
        "        # x = self.pool(x)\r\n",
        "        #flattenned layer        \r\n",
        "        x = x.view(-1,5*5*16)\r\n",
        "        x = F.relu(self.fc1(x))\r\n",
        "        x = F.relu(self.fc2(x))\r\n",
        "        x1 = x = F.relu(self.fc3(x))\r\n",
        "        x  = F.relu(self.fc4(x))\r\n",
        "        x  = self.do(x)\r\n",
        "        x  = F.relu(self.fc5(x+x1))\r\n",
        "        x  = self.do(x)\r\n",
        "        x  = F.relu(self.fc6(x))\r\n",
        "        return x\r\n",
        "        \r\n",
        "model = Net().cuda()\r\n",
        "print(model)"
      ],
      "execution_count": null,
      "outputs": [
        {
          "output_type": "stream",
          "text": [
            "Net(\n",
            "  (conv0): Conv2d(3, 8, kernel_size=(5, 5), stride=(1, 1))\n",
            "  (conv1): Conv2d(8, 16, kernel_size=(5, 5), stride=(1, 1))\n",
            "  (conv2): Conv2d(16, 32, kernel_size=(2, 2), stride=(1, 1))\n",
            "  (pool): MaxPool2d(kernel_size=2, stride=2, padding=0, dilation=1, ceil_mode=False)\n",
            "  (fc1): Linear(in_features=3072, out_features=128, bias=True)\n",
            "  (fc2): Linear(in_features=128, out_features=64, bias=True)\n",
            "  (fc3): Linear(in_features=64, out_features=32, bias=True)\n",
            "  (fc4): Linear(in_features=32, out_features=32, bias=True)\n",
            "  (fc5): Linear(in_features=32, out_features=16, bias=True)\n",
            "  (fc6): Linear(in_features=16, out_features=10, bias=True)\n",
            "  (do): Dropout(p=0.3, inplace=False)\n",
            ")\n"
          ],
          "name": "stdout"
        }
      ]
    },
    {
      "cell_type": "markdown",
      "metadata": {
        "id": "iGdpJ3WTByza"
      },
      "source": [
        "# Defining a Loss Function and Optimizer"
      ]
    },
    {
      "cell_type": "code",
      "metadata": {
        "id": "bmCqOxNZBiEd"
      },
      "source": [
        "criterion = nn.CrossEntropyLoss()\r\n",
        "optimiser = optim.SGD(model.parameters(),lr=0.03)\r\n",
        "loss = nn.CrossEntropyLoss()"
      ],
      "execution_count": null,
      "outputs": []
    },
    {
      "cell_type": "code",
      "metadata": {
        "id": "R_ICaKVkEgHz",
        "colab": {
          "base_uri": "https://localhost:8080/"
        },
        "outputId": "650a61ef-ae4e-46f8-812d-17edc86ce508"
      },
      "source": [
        "# define training loop\r\n",
        "\r\n",
        "nb_epochs = 40\r\n",
        "\r\n",
        "for epoch in range(nb_epochs):\r\n",
        "    losses1 = []\r\n",
        "    model.train()\r\n",
        "    for batch in train_loader:\r\n",
        "        x ,y = batch\r\n",
        "        # x : batch_size * 1_channel * 28 * 28\r\n",
        "        #b = x.size(0)\r\n",
        "        #x = x.view(b,-1).cuda()\r\n",
        "        #forward pass\r\n",
        "        x = x.cuda()\r\n",
        "        l = model(x) # l stands for logit\r\n",
        "        \r\n",
        "        #compute the loss fucnction\r\n",
        "        J = loss(l,y.cuda())\r\n",
        "        \r\n",
        "        #cleaning the gradient \r\n",
        "        optimiser.zero_grad()\r\n",
        "        #params.grad._zero()\r\n",
        "       \r\n",
        "        #compute accumulatinfg the partial gradient \r\n",
        "        J.backward() #params.\r\n",
        "        #params.grad.add_(dJ/dparams)\r\n",
        "        \r\n",
        "        #update the parameters\r\n",
        "        optimiser.step()\r\n",
        "        #with torch.no_grad(): params = params - alpha*params.grad\r\n",
        "        losses1.append(J.item())\r\n",
        "    losses = []\r\n",
        "    accuracies = []\r\n",
        "    model.eval()\r\n",
        "    for batch in val_loader:\r\n",
        "        x ,y = batch\r\n",
        "        # x : batch_size * 1_channel * 28 * 28\r\n",
        "        x = x.cuda()\r\n",
        "        #forward pass\r\n",
        "        with torch.no_grad():\r\n",
        "            l = model(x) # l stands for logit\r\n",
        "            #compute the loss fucnction\r\n",
        "            J = loss(l,y.cuda())\r\n",
        "            losses.append(J.item())\r\n",
        "            accuracies.append(y.cuda().eq(l.detach().argmax(dim=1)).float().mean())\r\n",
        "    print(f'Epoch {epoch+1},train loss: {torch.tensor(losses1).mean():.2f}  validation loss: {torch.tensor(losses).mean():.2f}')\r\n",
        "    print(f'Epoch {epoch+1},Accuracy: {torch.tensor(accuracies).mean():.5f}')"
      ],
      "execution_count": null,
      "outputs": [
        {
          "output_type": "stream",
          "text": [
            "Epoch 1,train loss: 1.29  validation loss: 1.49\n",
            "Epoch 1,Accuracy: 0.49025\n",
            "Epoch 2,train loss: 1.28  validation loss: 1.51\n",
            "Epoch 2,Accuracy: 0.48248\n",
            "Epoch 3,train loss: 1.28  validation loss: 1.47\n",
            "Epoch 3,Accuracy: 0.49940\n",
            "Epoch 4,train loss: 1.27  validation loss: 1.54\n",
            "Epoch 4,Accuracy: 0.47970\n",
            "Epoch 5,train loss: 1.26  validation loss: 1.52\n",
            "Epoch 5,Accuracy: 0.48507\n",
            "Epoch 6,train loss: 1.26  validation loss: 1.58\n",
            "Epoch 6,Accuracy: 0.45920\n",
            "Epoch 7,train loss: 1.25  validation loss: 1.58\n",
            "Epoch 7,Accuracy: 0.47114\n",
            "Epoch 8,train loss: 1.25  validation loss: 1.53\n",
            "Epoch 8,Accuracy: 0.47293\n",
            "Epoch 9,train loss: 1.24  validation loss: 1.54\n",
            "Epoch 9,Accuracy: 0.48209\n",
            "Epoch 10,train loss: 1.24  validation loss: 1.53\n",
            "Epoch 10,Accuracy: 0.47950\n",
            "Epoch 11,train loss: 1.23  validation loss: 1.51\n",
            "Epoch 11,Accuracy: 0.48666\n",
            "Epoch 12,train loss: 1.23  validation loss: 1.53\n",
            "Epoch 12,Accuracy: 0.48726\n",
            "Epoch 13,train loss: 1.22  validation loss: 1.54\n",
            "Epoch 13,Accuracy: 0.48786\n",
            "Epoch 14,train loss: 1.21  validation loss: 1.54\n",
            "Epoch 14,Accuracy: 0.49104\n",
            "Epoch 15,train loss: 1.21  validation loss: 1.55\n",
            "Epoch 15,Accuracy: 0.48706\n",
            "Epoch 16,train loss: 1.20  validation loss: 1.60\n",
            "Epoch 16,Accuracy: 0.48607\n",
            "Epoch 17,train loss: 1.20  validation loss: 1.64\n",
            "Epoch 17,Accuracy: 0.46895\n",
            "Epoch 18,train loss: 1.19  validation loss: 1.60\n",
            "Epoch 18,Accuracy: 0.47393\n",
            "Epoch 19,train loss: 1.19  validation loss: 1.59\n",
            "Epoch 19,Accuracy: 0.46775\n",
            "Epoch 20,train loss: 1.18  validation loss: 1.59\n",
            "Epoch 20,Accuracy: 0.48547\n",
            "Epoch 21,train loss: 1.18  validation loss: 1.59\n",
            "Epoch 21,Accuracy: 0.48487\n",
            "Epoch 22,train loss: 1.17  validation loss: 1.61\n",
            "Epoch 22,Accuracy: 0.47412\n",
            "Epoch 23,train loss: 1.17  validation loss: 1.60\n",
            "Epoch 23,Accuracy: 0.47970\n",
            "Epoch 24,train loss: 1.16  validation loss: 1.65\n",
            "Epoch 24,Accuracy: 0.46357\n",
            "Epoch 25,train loss: 1.16  validation loss: 1.61\n",
            "Epoch 25,Accuracy: 0.48049\n",
            "Epoch 26,train loss: 1.15  validation loss: 1.66\n",
            "Epoch 26,Accuracy: 0.46775\n",
            "Epoch 27,train loss: 1.15  validation loss: 1.63\n",
            "Epoch 27,Accuracy: 0.47870\n",
            "Epoch 28,train loss: 1.14  validation loss: 1.59\n",
            "Epoch 28,Accuracy: 0.48169\n",
            "Epoch 29,train loss: 1.14  validation loss: 1.67\n",
            "Epoch 29,Accuracy: 0.47313\n",
            "Epoch 30,train loss: 1.14  validation loss: 1.63\n",
            "Epoch 30,Accuracy: 0.48229\n",
            "Epoch 31,train loss: 1.13  validation loss: 1.66\n",
            "Epoch 31,Accuracy: 0.47930\n",
            "Epoch 32,train loss: 1.13  validation loss: 1.71\n",
            "Epoch 32,Accuracy: 0.47432\n",
            "Epoch 33,train loss: 1.13  validation loss: 1.67\n",
            "Epoch 33,Accuracy: 0.47074\n",
            "Epoch 34,train loss: 1.12  validation loss: 1.64\n",
            "Epoch 34,Accuracy: 0.48666\n",
            "Epoch 35,train loss: 1.11  validation loss: 1.69\n",
            "Epoch 35,Accuracy: 0.47671\n",
            "Epoch 36,train loss: 1.11  validation loss: 1.75\n",
            "Epoch 36,Accuracy: 0.47651\n",
            "Epoch 37,train loss: 1.11  validation loss: 1.67\n",
            "Epoch 37,Accuracy: 0.48328\n",
            "Epoch 38,train loss: 1.11  validation loss: 1.71\n",
            "Epoch 38,Accuracy: 0.47950\n",
            "Epoch 39,train loss: 1.10  validation loss: 1.66\n",
            "Epoch 39,Accuracy: 0.48627\n",
            "Epoch 40,train loss: 1.09  validation loss: 1.68\n",
            "Epoch 40,Accuracy: 0.49025\n"
          ],
          "name": "stdout"
        }
      ]
    },
    {
      "cell_type": "code",
      "metadata": {
        "id": "iRcAO_nFuPap"
      },
      "source": [
        ""
      ],
      "execution_count": null,
      "outputs": []
    },
    {
      "cell_type": "markdown",
      "metadata": {
        "id": "0dZkC5EkoMVG"
      },
      "source": [
        "```\r\n",
        "Epoch 1,train loss: 2.30  validation loss: 2.30\r\n",
        "Epoch 1,Accuracy: 0.11525\r\n",
        "Epoch 2,train loss: 2.30  validation loss: 2.29\r\n",
        "Epoch 2,Accuracy: 0.14291\r\n",
        "Epoch 3,train loss: 2.24  validation loss: 2.16\r\n",
        "Epoch 3,Accuracy: 0.22552\r\n",
        "Epoch 4,train loss: 2.08  validation loss: 2.00\r\n",
        "Epoch 4,Accuracy: 0.26931\r\n",
        "Epoch 5,train loss: 1.93  validation loss: 2.17\r\n",
        "Epoch 5,Accuracy: 0.23865\r\n",
        "Epoch 6,train loss: 1.82  validation loss: 1.96\r\n",
        "Epoch 6,Accuracy: 0.30912\r\n",
        "Epoch 7,train loss: 1.72  validation loss: 1.86\r\n",
        "Epoch 7,Accuracy: 0.36704\r\n",
        "Epoch 8,train loss: 1.62  validation loss: 1.73\r\n",
        "Epoch 8,Accuracy: 0.42456\r\n",
        "Epoch 9,train loss: 1.56  validation loss: 1.61\r\n",
        "Epoch 9,Accuracy: 0.46377\r\n",
        "Epoch 10,train loss: 1.50  validation loss: 1.60\r\n",
        "Epoch 10,Accuracy: 0.47452\r\n",
        "Epoch 11,train loss: 1.46  validation loss: 1.54\r\n",
        "Epoch 11,Accuracy: 0.49303\r\n",
        "Epoch 12,train loss: 1.42  validation loss: 1.50\r\n",
        "Epoch 12,Accuracy: 0.51791\r\n",
        "Epoch 13,train loss: 1.38  validation loss: 1.50\r\n",
        "Epoch 13,Accuracy: 0.51990\r\n",
        "Epoch 14,train loss: 1.35  validation loss: 1.50\r\n",
        "Epoch 14,Accuracy: 0.52189\r\n",
        "Epoch 15,train loss: 1.32  validation loss: 1.50\r\n",
        "Epoch 15,Accuracy: 0.52428\r\n",
        "Epoch 16,train loss: 1.29  validation loss: 1.66\r\n",
        "Epoch 16,Accuracy: 0.46477\r\n",
        "Epoch 17,train loss: 1.23  validation loss: 1.47\r\n",
        "Epoch 17,Accuracy: 0.53145\r\n",
        "Epoch 18,train loss: 1.16  validation loss: 1.48\r\n",
        "Epoch 18,Accuracy: 0.52727\r\n",
        "Epoch 19,train loss: 1.13  validation loss: 1.47\r\n",
        "Epoch 19,Accuracy: 0.53662\r\n",
        "Epoch 20,train loss: 1.10  validation loss: 1.51\r\n",
        "Epoch 20,Accuracy: 0.52946\r\n",
        "Epoch 21,train loss: 1.08  validation loss: 1.49\r\n",
        "Epoch 21,Accuracy: 0.52866\r\n",
        "Epoch 22,train loss: 1.05  validation loss: 1.50\r\n",
        "Epoch 22,Accuracy: 0.53185\r\n",
        "Epoch 23,train loss: 1.03  validation loss: 1.54\r\n",
        "Epoch 23,Accuracy: 0.53702\r\n",
        "Epoch 24,train loss: 1.01  validation loss: 1.56\r\n",
        "Epoch 24,Accuracy: 0.53304\r\n",
        "Epoch 25,train loss: 0.99  validation loss: 1.62\r\n",
        "Epoch 25,Accuracy: 0.52687\r\n",
        "Epoch 26,train loss: 0.97  validation loss: 1.64\r\n",
        "Epoch 26,Accuracy: 0.53025\r\n",
        "Epoch 27,train loss: 0.95  validation loss: 1.62\r\n",
        "Epoch 27,Accuracy: 0.54061\r\n",
        "Epoch 28,train loss: 0.94  validation loss: 1.68\r\n",
        "Epoch 28,Accuracy: 0.52767\r\n",
        "Epoch 29,train loss: 0.92  validation loss: 1.65\r\n",
        "Epoch 29,Accuracy: 0.52767\r\n",
        "Epoch 30,train loss: 0.91  validation loss: 1.68\r\n",
        "Epoch 30,Accuracy: 0.53105\r\n",
        "Epoch 31,train loss: 0.89  validation loss: 1.73\r\n",
        "Epoch 31,Accuracy: 0.52408\r\n",
        "Epoch 32,train loss: 0.87  validation loss: 1.74\r\n",
        "Epoch 32,Accuracy: 0.52767\r\n",
        "Epoch 33,train loss: 0.86  validation loss: 1.72\r\n",
        "Epoch 33,Accuracy: 0.53682\r\n",
        "Epoch 34,train loss: 0.85  validation loss: 1.79\r\n",
        "Epoch 34,Accuracy: 0.52588\r\n",
        "Epoch 35,train loss: 0.84  validation loss: 1.76\r\n",
        "Epoch 35,Accuracy: 0.53145\r\n",
        "Epoch 36,train loss: 0.75  validation loss: 1.79\r\n",
        "Epoch 36,Accuracy: 0.55792\r\n",
        "Epoch 37,train loss: 0.70  validation loss: 1.82\r\n",
        "Epoch 37,Accuracy: 0.54558\r\n",
        "Epoch 38,train loss: 0.67  validation loss: 1.73\r\n",
        "Epoch 38,Accuracy: 0.55852\r\n",
        "Epoch 39,train loss: 0.66  validation loss: 1.79\r\n",
        "Epoch 39,Accuracy: 0.55872\r\n",
        "Epoch 40,train loss: 0.64  validation loss: 1.80\r\n",
        "Epoch 40,Accuracy: 0.55613\r\n",
        "```"
      ]
    }
  ]
}